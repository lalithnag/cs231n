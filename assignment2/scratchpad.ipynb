{
 "cells": [
  {
   "cell_type": "code",
   "execution_count": 2,
   "metadata": {},
   "outputs": [],
   "source": [
    "import numpy as np"
   ]
  },
  {
   "cell_type": "code",
   "execution_count": 11,
   "metadata": {},
   "outputs": [],
   "source": [
    "x_shape = (2, 3, 4, 4)\n",
    "w_shape = (3, 3, 4, 4)\n",
    "x = np.ones(x_shape)\n",
    "w = np.ones(w_shape)\n",
    "pad = 1\n",
    "stride = 2"
   ]
  },
  {
   "cell_type": "code",
   "execution_count": 15,
   "metadata": {},
   "outputs": [
    {
     "name": "stdout",
     "output_type": "stream",
     "text": [
      "(2, 3, 4, 4)\n"
     ]
    }
   ],
   "source": [
    "print(x.shape)\n",
    "#print(x)"
   ]
  },
  {
   "cell_type": "code",
   "execution_count": 20,
   "metadata": {},
   "outputs": [
    {
     "name": "stdout",
     "output_type": "stream",
     "text": [
      "(2, 3, 6, 6)\n",
      "[[[0. 0. 0. 0. 0. 0.]\n",
      "  [0. 1. 1. 1. 1. 0.]\n",
      "  [0. 1. 1. 1. 1. 0.]\n",
      "  [0. 1. 1. 1. 1. 0.]\n",
      "  [0. 1. 1. 1. 1. 0.]\n",
      "  [0. 0. 0. 0. 0. 0.]]\n",
      "\n",
      " [[0. 0. 0. 0. 0. 0.]\n",
      "  [0. 1. 1. 1. 1. 0.]\n",
      "  [0. 1. 1. 1. 1. 0.]\n",
      "  [0. 1. 1. 1. 1. 0.]\n",
      "  [0. 1. 1. 1. 1. 0.]\n",
      "  [0. 0. 0. 0. 0. 0.]]\n",
      "\n",
      " [[0. 0. 0. 0. 0. 0.]\n",
      "  [0. 1. 1. 1. 1. 0.]\n",
      "  [0. 1. 1. 1. 1. 0.]\n",
      "  [0. 1. 1. 1. 1. 0.]\n",
      "  [0. 1. 1. 1. 1. 0.]\n",
      "  [0. 0. 0. 0. 0. 0.]]]\n"
     ]
    }
   ],
   "source": [
    "N, C, H, W = x.shape\n",
    "F, C, HH, WW = w.shape\n",
    "\n",
    "# Padding the input\n",
    "x_pad = np.zeros((N, C, H+(2*pad), W+(2*pad)))\n",
    "\n",
    "for i in range(N):\n",
    "    for j in range(C):\n",
    "        x_pad[i,j,:,:] = np.pad(x[i,j,:,:], (pad, pad),'constant')\n",
    "        \n",
    "print(x_pad.shape)\n",
    "print(x_pad[0,:,:,:])"
   ]
  },
  {
   "cell_type": "code",
   "execution_count": 12,
   "metadata": {},
   "outputs": [
    {
     "name": "stdout",
     "output_type": "stream",
     "text": [
      "2 2\n"
     ]
    }
   ],
   "source": [
    "Hprime = int(1 + (H + 2 * pad - HH) / stride)\n",
    "Wprime = int(1 + (W + 2 * pad - WW) / stride)\n",
    "\n",
    "print(Hprime, Wprime)"
   ]
  },
  {
   "cell_type": "code",
   "execution_count": 14,
   "metadata": {},
   "outputs": [
    {
     "name": "stdout",
     "output_type": "stream",
     "text": [
      "(2, 48, 4)\n"
     ]
    }
   ],
   "source": [
    "x_im2col = np.zeros((N, (HH * WW * C), (Hprime * Wprime)))\n",
    "\n",
    "print(x_im2col.shape)\n",
    "#print(x_im2col)"
   ]
  },
  {
   "cell_type": "code",
   "execution_count": 24,
   "metadata": {},
   "outputs": [
    {
     "name": "stdout",
     "output_type": "stream",
     "text": [
      "(2, 48, 4)\n",
      "[[[0. 0. 0. 1.]\n",
      "  [0. 0. 1. 1.]\n",
      "  [0. 0. 1. 1.]\n",
      "  [0. 0. 1. 0.]\n",
      "  [0. 1. 0. 1.]\n",
      "  [1. 1. 1. 1.]\n",
      "  [1. 1. 1. 1.]\n",
      "  [1. 0. 1. 0.]\n",
      "  [0. 1. 0. 1.]\n",
      "  [1. 1. 1. 1.]\n",
      "  [1. 1. 1. 1.]\n",
      "  [1. 0. 1. 0.]\n",
      "  [0. 1. 0. 0.]\n",
      "  [1. 1. 0. 0.]\n",
      "  [1. 1. 0. 0.]\n",
      "  [1. 0. 0. 0.]\n",
      "  [0. 0. 0. 1.]\n",
      "  [0. 0. 1. 1.]\n",
      "  [0. 0. 1. 1.]\n",
      "  [0. 0. 1. 0.]\n",
      "  [0. 1. 0. 1.]\n",
      "  [1. 1. 1. 1.]\n",
      "  [1. 1. 1. 1.]\n",
      "  [1. 0. 1. 0.]\n",
      "  [0. 1. 0. 1.]\n",
      "  [1. 1. 1. 1.]\n",
      "  [1. 1. 1. 1.]\n",
      "  [1. 0. 1. 0.]\n",
      "  [0. 1. 0. 0.]\n",
      "  [1. 1. 0. 0.]\n",
      "  [1. 1. 0. 0.]\n",
      "  [1. 0. 0. 0.]\n",
      "  [0. 0. 0. 1.]\n",
      "  [0. 0. 1. 1.]\n",
      "  [0. 0. 1. 1.]\n",
      "  [0. 0. 1. 0.]\n",
      "  [0. 1. 0. 1.]\n",
      "  [1. 1. 1. 1.]\n",
      "  [1. 1. 1. 1.]\n",
      "  [1. 0. 1. 0.]\n",
      "  [0. 1. 0. 1.]\n",
      "  [1. 1. 1. 1.]\n",
      "  [1. 1. 1. 1.]\n",
      "  [1. 0. 1. 0.]\n",
      "  [0. 1. 0. 0.]\n",
      "  [1. 1. 0. 0.]\n",
      "  [1. 1. 0. 0.]\n",
      "  [1. 0. 0. 0.]]\n",
      "\n",
      " [[0. 0. 0. 1.]\n",
      "  [0. 0. 1. 1.]\n",
      "  [0. 0. 1. 1.]\n",
      "  [0. 0. 1. 0.]\n",
      "  [0. 1. 0. 1.]\n",
      "  [1. 1. 1. 1.]\n",
      "  [1. 1. 1. 1.]\n",
      "  [1. 0. 1. 0.]\n",
      "  [0. 1. 0. 1.]\n",
      "  [1. 1. 1. 1.]\n",
      "  [1. 1. 1. 1.]\n",
      "  [1. 0. 1. 0.]\n",
      "  [0. 1. 0. 0.]\n",
      "  [1. 1. 0. 0.]\n",
      "  [1. 1. 0. 0.]\n",
      "  [1. 0. 0. 0.]\n",
      "  [0. 0. 0. 1.]\n",
      "  [0. 0. 1. 1.]\n",
      "  [0. 0. 1. 1.]\n",
      "  [0. 0. 1. 0.]\n",
      "  [0. 1. 0. 1.]\n",
      "  [1. 1. 1. 1.]\n",
      "  [1. 1. 1. 1.]\n",
      "  [1. 0. 1. 0.]\n",
      "  [0. 1. 0. 1.]\n",
      "  [1. 1. 1. 1.]\n",
      "  [1. 1. 1. 1.]\n",
      "  [1. 0. 1. 0.]\n",
      "  [0. 1. 0. 0.]\n",
      "  [1. 1. 0. 0.]\n",
      "  [1. 1. 0. 0.]\n",
      "  [1. 0. 0. 0.]\n",
      "  [0. 0. 0. 1.]\n",
      "  [0. 0. 1. 1.]\n",
      "  [0. 0. 1. 1.]\n",
      "  [0. 0. 1. 0.]\n",
      "  [0. 1. 0. 1.]\n",
      "  [1. 1. 1. 1.]\n",
      "  [1. 1. 1. 1.]\n",
      "  [1. 0. 1. 0.]\n",
      "  [0. 1. 0. 1.]\n",
      "  [1. 1. 1. 1.]\n",
      "  [1. 1. 1. 1.]\n",
      "  [1. 0. 1. 0.]\n",
      "  [0. 1. 0. 0.]\n",
      "  [1. 1. 0. 0.]\n",
      "  [1. 1. 0. 0.]\n",
      "  [1. 0. 0. 0.]]]\n"
     ]
    }
   ],
   "source": [
    "for i in range(N):\n",
    "    ctr = 0\n",
    "    for j in range(0, Hprime+1, stride):\n",
    "        for k in range(0, Wprime+1, stride):\n",
    "            x_im2col[i, :, ctr] = (x_pad[i, :, j:(j + HH), k:(k + WW)]).reshape(-1)\n",
    "            ctr+=1\n",
    "            \n",
    "print(x_im2col.shape)\n",
    "print(x_im2col)"
   ]
  },
  {
   "cell_type": "code",
   "execution_count": 33,
   "metadata": {},
   "outputs": [
    {
     "name": "stdout",
     "output_type": "stream",
     "text": [
      "0\n",
      "1\n"
     ]
    }
   ],
   "source": [
    "for i in range(2):\n",
    "    print(i)"
   ]
  },
  {
   "cell_type": "code",
   "execution_count": 29,
   "metadata": {},
   "outputs": [
    {
     "name": "stdout",
     "output_type": "stream",
     "text": [
      "[1, 2, 3, 4]\n"
     ]
    }
   ],
   "source": [
    "a = [1,2,3,4]\n",
    "print(a)"
   ]
  },
  {
   "cell_type": "code",
   "execution_count": 31,
   "metadata": {},
   "outputs": [
    {
     "name": "stdout",
     "output_type": "stream",
     "text": [
      "[2, 3]\n"
     ]
    }
   ],
   "source": [
    "print(a[1:3])"
   ]
  },
  {
   "cell_type": "code",
   "execution_count": 35,
   "metadata": {},
   "outputs": [
    {
     "name": "stdout",
     "output_type": "stream",
     "text": [
      "[[2. 2. 2.]\n",
      " [2. 2. 2.]]\n"
     ]
    }
   ],
   "source": [
    "a = np.zeros((2,3))\n",
    "for i in range(2):\n",
    "    a += np.ones((2,3))\n",
    "    \n",
    "print(a)"
   ]
  },
  {
   "cell_type": "code",
   "execution_count": 42,
   "metadata": {},
   "outputs": [
    {
     "name": "stdout",
     "output_type": "stream",
     "text": [
      "(3, 4, 4)\n",
      "(2, 4, 4)\n",
      "(2, 3)\n",
      "(2, 3, 4)\n"
     ]
    }
   ],
   "source": [
    "x_shape = (2,3,4,4)\n",
    "x = np.ones(x_shape)\n",
    "a = np.sum(x, axis=0)\n",
    "print(a.shape)\n",
    "a = np.sum(x, axis=1)\n",
    "print(a.shape)\n",
    "a = np.sum(x, axis=(2,3))\n",
    "print(a.shape)\n",
    "a = np.sum(x, axis=3)\n",
    "print(a.shape)"
   ]
  },
  {
   "cell_type": "code",
   "execution_count": 8,
   "metadata": {},
   "outputs": [
    {
     "name": "stdout",
     "output_type": "stream",
     "text": [
      "0\n",
      "1\n"
     ]
    }
   ],
   "source": [
    "import numpy as np\n",
    "a = (12, 23, 45)\n",
    "b = np.zeros((3,), dtype=int)\n",
    "print(b[1])\n",
    "c = 1\n",
    "print(c)"
   ]
  },
  {
   "cell_type": "code",
   "execution_count": 18,
   "metadata": {},
   "outputs": [
    {
     "name": "stdout",
     "output_type": "stream",
     "text": [
      "[0. 0. 0. 0.]\n"
     ]
    }
   ],
   "source": [
    "a = ((np.zeros(4,))*2)\n",
    "print(a)"
   ]
  },
  {
   "cell_type": "code",
   "execution_count": 32,
   "metadata": {},
   "outputs": [
    {
     "name": "stdout",
     "output_type": "stream",
     "text": [
      "(2, 3, 5, 5)\n",
      "(3, 2, 5, 5)\n",
      "(3, 2, 5, 5)\n",
      "(2, 3, 5, 5)\n"
     ]
    }
   ],
   "source": [
    "shape = (2,3,5,5)\n",
    "a = np.zeros(shape)\n",
    "print(a.shape)\n",
    "\n",
    "a = np.transpose(a, axes=[1,0,2,3])\n",
    "print(a.shape)\n",
    "b = a\n",
    "print(b.shape)\n",
    "b = np.transpose(b, axes=[1,0,2,3])\n",
    "print(b.shape)"
   ]
  },
  {
   "cell_type": "code",
   "execution_count": 36,
   "metadata": {},
   "outputs": [
    {
     "name": "stdout",
     "output_type": "stream",
     "text": [
      "(1, 2, 3)\n",
      "(4, 5, 6)\n"
     ]
    }
   ],
   "source": [
    "a = (1,2,3,4,5,6,7)\n",
    "print(a[0:3])\n",
    "print(a[3:6])"
   ]
  },
  {
   "cell_type": "code",
   "execution_count": 2,
   "metadata": {},
   "outputs": [
    {
     "name": "stdout",
     "output_type": "stream",
     "text": [
      "Train data shape:  (50000, 32, 32, 3)\n",
      "Train labels shape:  (50000, 1) int64\n",
      "Test data shape:  (10000, 32, 32, 3)\n",
      "Test labels shape:  (10000, 1)\n"
     ]
    }
   ],
   "source": [
    "import tensorflow as tf\n",
    "\n",
    "cifar100 = tf.keras.datasets.cifar100.load_data()\n",
    "(X_train, y_train), (X_test, y_test) = cifar100\n",
    "\n",
    "print('Train data shape: ', X_train.shape)\n",
    "print('Train labels shape: ', y_train.shape, y_train.dtype)\n",
    "print('Test data shape: ', X_test.shape)\n",
    "print('Test labels shape: ', y_test.shape)"
   ]
  },
  {
   "cell_type": "code",
   "execution_count": 4,
   "metadata": {},
   "outputs": [
    {
     "ename": "AttributeError",
     "evalue": "module 'tensorflow' has no attribute '_version_'",
     "output_type": "error",
     "traceback": [
      "\u001b[0;31m---------------------------------------------------------------------------\u001b[0m",
      "\u001b[0;31mAttributeError\u001b[0m                            Traceback (most recent call last)",
      "\u001b[0;32m<ipython-input-4-e3198a94b3aa>\u001b[0m in \u001b[0;36m<module>\u001b[0;34m\u001b[0m\n\u001b[1;32m      1\u001b[0m \u001b[0;32mimport\u001b[0m \u001b[0mtensorflow\u001b[0m \u001b[0;32mas\u001b[0m \u001b[0mtf\u001b[0m\u001b[0;34m\u001b[0m\u001b[0m\n\u001b[0;32m----> 2\u001b[0;31m \u001b[0mprint\u001b[0m\u001b[0;34m(\u001b[0m\u001b[0mtf\u001b[0m\u001b[0;34m.\u001b[0m\u001b[0m_version_\u001b[0m\u001b[0;34m)\u001b[0m\u001b[0;34m\u001b[0m\u001b[0m\n\u001b[0m",
      "\u001b[0;31mAttributeError\u001b[0m: module 'tensorflow' has no attribute '_version_'"
     ]
    }
   ],
   "source": [
    "import tensorflow as tf\n",
    "print(tf._version_)"
   ]
  },
  {
   "cell_type": "code",
   "execution_count": 6,
   "metadata": {},
   "outputs": [
    {
     "name": "stdout",
     "output_type": "stream",
     "text": [
      "1\n"
     ]
    }
   ],
   "source": [
    "a = ((1,))\n",
    "#print(a.shape)\n",
    "print(len(a))"
   ]
  },
  {
   "cell_type": "code",
   "execution_count": null,
   "metadata": {},
   "outputs": [],
   "source": []
  }
 ],
 "metadata": {
  "kernelspec": {
   "display_name": "Python 3",
   "language": "python",
   "name": "python3"
  },
  "language_info": {
   "codemirror_mode": {
    "name": "ipython",
    "version": 3
   },
   "file_extension": ".py",
   "mimetype": "text/x-python",
   "name": "python",
   "nbconvert_exporter": "python",
   "pygments_lexer": "ipython3",
   "version": "3.6.3"
  }
 },
 "nbformat": 4,
 "nbformat_minor": 2
}
