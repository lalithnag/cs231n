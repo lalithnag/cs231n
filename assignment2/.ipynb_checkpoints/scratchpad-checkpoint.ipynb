{
 "cells": [
  {
   "cell_type": "code",
   "execution_count": 2,
   "metadata": {},
   "outputs": [],
   "source": [
    "import numpy as np"
   ]
  },
  {
   "cell_type": "code",
   "execution_count": 11,
   "metadata": {},
   "outputs": [],
   "source": [
    "x_shape = (2, 3, 4, 4)\n",
    "w_shape = (3, 3, 4, 4)\n",
    "x = np.ones(x_shape)\n",
    "w = np.ones(w_shape)\n",
    "pad = 1\n",
    "stride = 2"
   ]
  },
  {
   "cell_type": "code",
   "execution_count": 15,
   "metadata": {},
   "outputs": [
    {
     "name": "stdout",
     "output_type": "stream",
     "text": [
      "(2, 3, 4, 4)\n"
     ]
    }
   ],
   "source": [
    "print(x.shape)\n",
    "#print(x)"
   ]
  },
  {
   "cell_type": "code",
   "execution_count": 20,
   "metadata": {},
   "outputs": [
    {
     "name": "stdout",
     "output_type": "stream",
     "text": [
      "(2, 3, 6, 6)\n",
      "[[[0. 0. 0. 0. 0. 0.]\n",
      "  [0. 1. 1. 1. 1. 0.]\n",
      "  [0. 1. 1. 1. 1. 0.]\n",
      "  [0. 1. 1. 1. 1. 0.]\n",
      "  [0. 1. 1. 1. 1. 0.]\n",
      "  [0. 0. 0. 0. 0. 0.]]\n",
      "\n",
      " [[0. 0. 0. 0. 0. 0.]\n",
      "  [0. 1. 1. 1. 1. 0.]\n",
      "  [0. 1. 1. 1. 1. 0.]\n",
      "  [0. 1. 1. 1. 1. 0.]\n",
      "  [0. 1. 1. 1. 1. 0.]\n",
      "  [0. 0. 0. 0. 0. 0.]]\n",
      "\n",
      " [[0. 0. 0. 0. 0. 0.]\n",
      "  [0. 1. 1. 1. 1. 0.]\n",
      "  [0. 1. 1. 1. 1. 0.]\n",
      "  [0. 1. 1. 1. 1. 0.]\n",
      "  [0. 1. 1. 1. 1. 0.]\n",
      "  [0. 0. 0. 0. 0. 0.]]]\n"
     ]
    }
   ],
   "source": [
    "N, C, H, W = x.shape\n",
    "F, C, HH, WW = w.shape\n",
    "\n",
    "# Padding the input\n",
    "x_pad = np.zeros((N, C, H+(2*pad), W+(2*pad)))\n",
    "\n",
    "for i in range(N):\n",
    "    for j in range(C):\n",
    "        x_pad[i,j,:,:] = np.pad(x[i,j,:,:], (pad, pad),'constant')\n",
    "        \n",
    "print(x_pad.shape)\n",
    "print(x_pad[0,:,:,:])"
   ]
  },
  {
   "cell_type": "code",
   "execution_count": 12,
   "metadata": {},
   "outputs": [
    {
     "name": "stdout",
     "output_type": "stream",
     "text": [
      "2 2\n"
     ]
    }
   ],
   "source": [
    "Hprime = int(1 + (H + 2 * pad - HH) / stride)\n",
    "Wprime = int(1 + (W + 2 * pad - WW) / stride)\n",
    "\n",
    "print(Hprime, Wprime)"
   ]
  },
  {
   "cell_type": "code",
   "execution_count": 14,
   "metadata": {},
   "outputs": [
    {
     "name": "stdout",
     "output_type": "stream",
     "text": [
      "(2, 48, 4)\n"
     ]
    }
   ],
   "source": [
    "x_im2col = np.zeros((N, (HH * WW * C), (Hprime * Wprime)))\n",
    "\n",
    "print(x_im2col.shape)\n",
    "#print(x_im2col)"
   ]
  },
  {
   "cell_type": "code",
   "execution_count": 24,
   "metadata": {},
   "outputs": [
    {
     "name": "stdout",
     "output_type": "stream",
     "text": [
      "(2, 48, 4)\n",
      "[[[0. 0. 0. 1.]\n",
      "  [0. 0. 1. 1.]\n",
      "  [0. 0. 1. 1.]\n",
      "  [0. 0. 1. 0.]\n",
      "  [0. 1. 0. 1.]\n",
      "  [1. 1. 1. 1.]\n",
      "  [1. 1. 1. 1.]\n",
      "  [1. 0. 1. 0.]\n",
      "  [0. 1. 0. 1.]\n",
      "  [1. 1. 1. 1.]\n",
      "  [1. 1. 1. 1.]\n",
      "  [1. 0. 1. 0.]\n",
      "  [0. 1. 0. 0.]\n",
      "  [1. 1. 0. 0.]\n",
      "  [1. 1. 0. 0.]\n",
      "  [1. 0. 0. 0.]\n",
      "  [0. 0. 0. 1.]\n",
      "  [0. 0. 1. 1.]\n",
      "  [0. 0. 1. 1.]\n",
      "  [0. 0. 1. 0.]\n",
      "  [0. 1. 0. 1.]\n",
      "  [1. 1. 1. 1.]\n",
      "  [1. 1. 1. 1.]\n",
      "  [1. 0. 1. 0.]\n",
      "  [0. 1. 0. 1.]\n",
      "  [1. 1. 1. 1.]\n",
      "  [1. 1. 1. 1.]\n",
      "  [1. 0. 1. 0.]\n",
      "  [0. 1. 0. 0.]\n",
      "  [1. 1. 0. 0.]\n",
      "  [1. 1. 0. 0.]\n",
      "  [1. 0. 0. 0.]\n",
      "  [0. 0. 0. 1.]\n",
      "  [0. 0. 1. 1.]\n",
      "  [0. 0. 1. 1.]\n",
      "  [0. 0. 1. 0.]\n",
      "  [0. 1. 0. 1.]\n",
      "  [1. 1. 1. 1.]\n",
      "  [1. 1. 1. 1.]\n",
      "  [1. 0. 1. 0.]\n",
      "  [0. 1. 0. 1.]\n",
      "  [1. 1. 1. 1.]\n",
      "  [1. 1. 1. 1.]\n",
      "  [1. 0. 1. 0.]\n",
      "  [0. 1. 0. 0.]\n",
      "  [1. 1. 0. 0.]\n",
      "  [1. 1. 0. 0.]\n",
      "  [1. 0. 0. 0.]]\n",
      "\n",
      " [[0. 0. 0. 1.]\n",
      "  [0. 0. 1. 1.]\n",
      "  [0. 0. 1. 1.]\n",
      "  [0. 0. 1. 0.]\n",
      "  [0. 1. 0. 1.]\n",
      "  [1. 1. 1. 1.]\n",
      "  [1. 1. 1. 1.]\n",
      "  [1. 0. 1. 0.]\n",
      "  [0. 1. 0. 1.]\n",
      "  [1. 1. 1. 1.]\n",
      "  [1. 1. 1. 1.]\n",
      "  [1. 0. 1. 0.]\n",
      "  [0. 1. 0. 0.]\n",
      "  [1. 1. 0. 0.]\n",
      "  [1. 1. 0. 0.]\n",
      "  [1. 0. 0. 0.]\n",
      "  [0. 0. 0. 1.]\n",
      "  [0. 0. 1. 1.]\n",
      "  [0. 0. 1. 1.]\n",
      "  [0. 0. 1. 0.]\n",
      "  [0. 1. 0. 1.]\n",
      "  [1. 1. 1. 1.]\n",
      "  [1. 1. 1. 1.]\n",
      "  [1. 0. 1. 0.]\n",
      "  [0. 1. 0. 1.]\n",
      "  [1. 1. 1. 1.]\n",
      "  [1. 1. 1. 1.]\n",
      "  [1. 0. 1. 0.]\n",
      "  [0. 1. 0. 0.]\n",
      "  [1. 1. 0. 0.]\n",
      "  [1. 1. 0. 0.]\n",
      "  [1. 0. 0. 0.]\n",
      "  [0. 0. 0. 1.]\n",
      "  [0. 0. 1. 1.]\n",
      "  [0. 0. 1. 1.]\n",
      "  [0. 0. 1. 0.]\n",
      "  [0. 1. 0. 1.]\n",
      "  [1. 1. 1. 1.]\n",
      "  [1. 1. 1. 1.]\n",
      "  [1. 0. 1. 0.]\n",
      "  [0. 1. 0. 1.]\n",
      "  [1. 1. 1. 1.]\n",
      "  [1. 1. 1. 1.]\n",
      "  [1. 0. 1. 0.]\n",
      "  [0. 1. 0. 0.]\n",
      "  [1. 1. 0. 0.]\n",
      "  [1. 1. 0. 0.]\n",
      "  [1. 0. 0. 0.]]]\n"
     ]
    }
   ],
   "source": [
    "for i in range(N):\n",
    "    ctr = 0\n",
    "    for j in range(0, Hprime+1, stride):\n",
    "        for k in range(0, Wprime+1, stride):\n",
    "            x_im2col[i, :, ctr] = (x_pad[i, :, j:(j + HH), k:(k + WW)]).reshape(-1)\n",
    "            ctr+=1\n",
    "            \n",
    "print(x_im2col.shape)\n",
    "print(x_im2col)"
   ]
  },
  {
   "cell_type": "code",
   "execution_count": 33,
   "metadata": {},
   "outputs": [
    {
     "name": "stdout",
     "output_type": "stream",
     "text": [
      "0\n",
      "1\n"
     ]
    }
   ],
   "source": [
    "for i in range(2):\n",
    "    print(i)"
   ]
  },
  {
   "cell_type": "code",
   "execution_count": 29,
   "metadata": {},
   "outputs": [
    {
     "name": "stdout",
     "output_type": "stream",
     "text": [
      "[1, 2, 3, 4]\n"
     ]
    }
   ],
   "source": [
    "a = [1,2,3,4]\n",
    "print(a)"
   ]
  },
  {
   "cell_type": "code",
   "execution_count": 31,
   "metadata": {},
   "outputs": [
    {
     "name": "stdout",
     "output_type": "stream",
     "text": [
      "[2, 3]\n"
     ]
    }
   ],
   "source": [
    "print(a[1:3])"
   ]
  },
  {
   "cell_type": "code",
   "execution_count": null,
   "metadata": {},
   "outputs": [],
   "source": []
  }
 ],
 "metadata": {
  "kernelspec": {
   "display_name": "Python 3",
   "language": "python",
   "name": "python3"
  },
  "language_info": {
   "codemirror_mode": {
    "name": "ipython",
    "version": 3
   },
   "file_extension": ".py",
   "mimetype": "text/x-python",
   "name": "python",
   "nbconvert_exporter": "python",
   "pygments_lexer": "ipython3",
   "version": "3.6.3"
  }
 },
 "nbformat": 4,
 "nbformat_minor": 2
}
